{
  "nbformat": 4,
  "nbformat_minor": 0,
  "metadata": {
    "colab": {
      "provenance": []
    },
    "kernelspec": {
      "name": "python3",
      "display_name": "Python 3"
    },
    "language_info": {
      "name": "python"
    }
  },
  "cells": [
    {
      "cell_type": "code",
      "execution_count": null,
      "metadata": {
        "id": "CLaaRNzHTOLF"
      },
      "outputs": [],
      "source": [
        "import pandas as pd\n",
        "from sklearn.model_selection import train_test_split\n",
        "from sklearn.preprocessing import StandardScaler, LabelEncoder\n",
        "from sklearn.linear_model import LogisticRegression\n",
        "from sklearn.metrics import classification_report, accuracy_score\n",
        "\n",
        "import kagglehub\n",
        "import os\n",
        "\n",
        "# Download latest version\n",
        "path = kagglehub.dataset_download(\"mohankrishnathalla/diabetes-health-indicators-dataset\")\n",
        "\n",
        "print(\"Path to dataset files:\", path)\n",
        "csv_path = os.path.join(path, 'diabetes_dataset.csv')\n",
        "print(\"Path to csv file:\", csv_path)"
      ]
    },
    {
      "cell_type": "code",
      "source": [
        "# check the data\n",
        "import pandas as pd\n",
        "df = pd.read_csv(csv_path)\n",
        "df.head()"
      ],
      "metadata": {
        "id": "tWkhnktlUS0q"
      },
      "execution_count": null,
      "outputs": []
    },
    {
      "cell_type": "code",
      "source": [
        "# check the features\n",
        "df.info()\n"
      ],
      "metadata": {
        "id": "RglniyxIVFe-"
      },
      "execution_count": null,
      "outputs": []
    },
    {
      "cell_type": "code",
      "source": [
        "# for the features with Dtype=object, show the values\n",
        "for col in df.columns:\n",
        "    if df[col].dtype == 'object':\n",
        "        print(col, df[col].unique())"
      ],
      "metadata": {
        "id": "ZgQjKaEdXPlH"
      },
      "execution_count": null,
      "outputs": []
    },
    {
      "cell_type": "code",
      "source": [
        "import pandas as pd\n",
        "from sklearn.model_selection import train_test_split\n",
        "from sklearn.preprocessing import StandardScaler\n",
        "from sklearn.linear_model import LogisticRegression\n",
        "from sklearn.metrics import classification_report, accuracy_score\n",
        "\n",
        "# --- Create Sample Data ---\n",
        "data = {\n",
        "    'A_Nominal': ['Red', 'Blue', 'Green', 'Red', 'Blue', 'Green', 'Red', 'Blue', 'Green', 'Red'],\n",
        "    'B_Ordinal': ['Low', 'Medium', 'High', 'Low', 'Medium', 'High', 'Low', 'Medium', 'High', 'Low'],\n",
        "    'C_Ordinal': ['Small', 'Medium', 'Large', 'Large', 'Medium', 'Small', 'Small', 'Medium', 'Large', 'Large'],\n",
        "    'Numerical_Feature': [10.5, 22.1, 5.0, 15.3, 30.0, 8.8, 12.0, 25.5, 6.2, 18.1],\n",
        "    'T_Target': ['Class_Y', 'Class_Z', 'Class_Y', 'Class_X', 'Class_Z', 'Class_X', 'Class_Y', 'Class_Z', 'Class_X', 'Class_Y']\n",
        "}\n",
        "df = pd.DataFrame(data)\n",
        "\n",
        "df.head()\n"
      ],
      "metadata": {
        "id": "Ub055bO9Y1O5"
      },
      "execution_count": null,
      "outputs": []
    },
    {
      "cell_type": "code",
      "source": [
        "ordinal_map_B = {'Low': 0, 'Medium': 1, 'High': 2}\n",
        "ordinal_map_C = {'Small': 0, 'Medium': 1, 'Large': 2}\n",
        "\n",
        "df['B_Ordinal_Encoded'] = df['B_Ordinal'].map(ordinal_map_B)\n",
        "df['C_Ordinal_Encoded'] = df['C_Ordinal'].map(ordinal_map_C)\n",
        "\n",
        "df_one_hot = pd.get_dummies(df['A_Nominal'], prefix='A') # Let the users know these features are from A_Nominal.\n",
        "df_one_hot.head()"
      ],
      "metadata": {
        "id": "6dfxKEU25yAx"
      },
      "execution_count": null,
      "outputs": []
    },
    {
      "cell_type": "code",
      "source": [],
      "metadata": {
        "id": "VznFDZLh69CT"
      },
      "execution_count": null,
      "outputs": []
    },
    {
      "cell_type": "code",
      "source": [
        "features_df = pd.concat([df_one_hot, df[['B_Ordinal_Encoded', 'C_Ordinal_Encoded', 'Numerical_Feature']]], axis=1)\n",
        "features_df.head()"
      ],
      "metadata": {
        "id": "XQ6u4-LU63wx"
      },
      "execution_count": null,
      "outputs": []
    },
    {
      "cell_type": "code",
      "source": [
        "le = LabelEncoder()\n",
        "target = le.fit_transform(df['T_Target'])\n",
        "\n",
        "target # 'Class_X' -> 0 'Class_Y' -> 1 'Class_Z' -> 2\n",
        "\n",
        "# why don't we use"
      ],
      "metadata": {
        "id": "_UIDy6Uv8C7M"
      },
      "execution_count": null,
      "outputs": []
    },
    {
      "cell_type": "code",
      "source": [
        "# Split the dataset\n",
        "X_train, X_test, y_train, y_test = train_test_split(features_df, target, test_size=0.3, random_state=42)\n",
        "\n",
        "\n",
        "# # Cross Validation\n",
        "from sklearn.model_selection import StratifiedKFold\n",
        "cv_strategy = StratifiedKFold(n_splits=5, shuffle=True, random_state=42)\n",
        "for fold_index, (train_indices, test_indices) in enumerate(cv_strategy.split(features_df, target)):\n",
        "\n",
        "    X_train_fold = features_df.iloc[train_indices]\n",
        "    y_train_fold = target[train_indices]\n",
        "    X_test_fold = features_df.iloc[test_indices]\n",
        "    y_test_fold = target[test_indices]"
      ],
      "metadata": {
        "id": "qxBLXcMVE62p"
      },
      "execution_count": null,
      "outputs": []
    },
    {
      "cell_type": "code",
      "source": [
        "# Transform the features\n",
        "scaler = StandardScaler()\n",
        "X_train_scaled = scaler.fit_transform(X_train)\n",
        "X_test_scaled = scaler.transform(X_test)"
      ],
      "metadata": {
        "id": "Wv02OmcwE-Yv"
      },
      "execution_count": null,
      "outputs": []
    },
    {
      "cell_type": "code",
      "source": [
        "# Train the model\n",
        "model = LogisticRegression()\n",
        "model.fit(X_train_scaled, y_train)"
      ],
      "metadata": {
        "id": "Tr_mPF0_FMYJ"
      },
      "execution_count": null,
      "outputs": []
    },
    {
      "cell_type": "code",
      "source": [
        "# Predict\n",
        "y_pred = model.predict(X_test_scaled)\n"
      ],
      "metadata": {
        "id": "E4NyggrKFTCU"
      },
      "execution_count": null,
      "outputs": []
    },
    {
      "cell_type": "code",
      "source": [
        "print(\"Accuracy:\", accuracy_score(y_test, y_pred))"
      ],
      "metadata": {
        "id": "ynZtTED-FW3o"
      },
      "execution_count": null,
      "outputs": []
    }
  ]
}